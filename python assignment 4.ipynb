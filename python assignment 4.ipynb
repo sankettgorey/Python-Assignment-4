{
 "cells": [
  {
   "cell_type": "markdown",
   "metadata": {
    "id": "L3jTEYYKJey6"
   },
   "source": [
    "# 1.1 Write a Python Program(with class concepts) to find the area of the triangle using the below formula.\n",
    "* area = (s*(s-a)*(s-b)*(s-c)) ** 0.5\n",
    "* Function to take the length of the sides of triangle from user should be defined in the parent\n",
    "* class and function to calculate the area should be defined in subclass."
   ]
  },
  {
   "cell_type": "code",
   "execution_count": 1,
   "metadata": {
    "id": "pHc5McZ9tSyo"
   },
   "outputs": [],
   "source": [
    "#create class triangle\n",
    "class triangle:\n",
    "  def __init__(self):\n",
    "    side=['a','b','c']\n",
    "    self.sides=side\n",
    "  def triangle_side(self):\n",
    "    self.side_t=[input('enter side of triangle '+i+':') for i in self.sides]"
   ]
  },
  {
   "cell_type": "code",
   "execution_count": 2,
   "metadata": {
    "id": "v4h_QvmsZATf"
   },
   "outputs": [],
   "source": [
    "#creating subclass triangle_area\n",
    "class triangle_area(triangle):\n",
    "  def __init__(self):\n",
    "    triangle.__init__(self)\n",
    "  def area(self):\n",
    "    a=float(self.side_t[0])\n",
    "    b=float(self.side_t[1])\n",
    "    c=float(self.side_t[2])\n",
    "    s=(a+b+c)*.5\n",
    "    area=(s*(s-a)*(s-b)*(s-c)) ** 0.5\n",
    "    return area"
   ]
  },
  {
   "cell_type": "code",
   "execution_count": 3,
   "metadata": {
    "colab": {
     "base_uri": "https://localhost:8080/",
     "height": 72
    },
    "id": "UdAbOZ8svj7j",
    "outputId": "59ed36a0-ef76-42e3-a911-7e07295e427e"
   },
   "outputs": [
    {
     "name": "stdout",
     "output_type": "stream",
     "text": [
      "enter side of triangle a:8\n",
      "enter side of triangle b:7\n",
      "enter side of triangle c:9\n"
     ]
    }
   ],
   "source": [
    "#calling object of sub class triangle_area\n",
    "obj=triangle_area()\n",
    "obj.triangle_side()"
   ]
  },
  {
   "cell_type": "code",
   "execution_count": 4,
   "metadata": {
    "colab": {
     "base_uri": "https://localhost:8080/",
     "height": 35
    },
    "id": "8VQm0Hr9vqIl",
    "outputId": "f800bfeb-53e2-486f-814f-01cc1b057879"
   },
   "outputs": [
    {
     "data": {
      "text/plain": [
       "26.832815729997478"
      ]
     },
     "execution_count": 4,
     "metadata": {},
     "output_type": "execute_result"
    }
   ],
   "source": [
    "obj.area()"
   ]
  },
  {
   "cell_type": "markdown",
   "metadata": {
    "id": "sWj_xHB1xI_I"
   },
   "source": [
    "# Write a function filter_long_words() that takes a list of words and an integer n and returns the list of words that are longer than n."
   ]
  },
  {
   "cell_type": "code",
   "execution_count": 5,
   "metadata": {
    "id": "AkNd6-Q5waqI"
   },
   "outputs": [],
   "source": [
    "def filter_long_words(words_list,n):\n",
    "  x = []\n",
    "  for i in words_list:\n",
    "    if len(i) > n:\n",
    "      x.append(i)\n",
    "  return x"
   ]
  },
  {
   "cell_type": "code",
   "execution_count": 6,
   "metadata": {
    "colab": {
     "base_uri": "https://localhost:8080/",
     "height": 35
    },
    "id": "f7Yf6aNdxS0_",
    "outputId": "5b1ee3db-7dd5-4065-b55f-c9963c1ebb2e"
   },
   "outputs": [
    {
     "data": {
      "text/plain": [
       "['Bangalore', 'Mumbai']"
      ]
     },
     "execution_count": 6,
     "metadata": {},
     "output_type": "execute_result"
    }
   ],
   "source": [
    "filter_long_words(['Pune','Bangalore','Mumbai'],4)"
   ]
  },
  {
   "cell_type": "markdown",
   "metadata": {
    "id": "7Mx69M1oyk69"
   },
   "source": [
    "Write a Python program using function concept that maps list of words into a list of integers\n",
    "representing the lengths of the corresponding words.\n",
    "Hint: If a list [ ab,cde,erty] is passed on to the python function output should come as [2,3,4]\n",
    "Here 2,3 and 4 are the lengths of the words in the list."
   ]
  },
  {
   "cell_type": "code",
   "execution_count": 7,
   "metadata": {
    "id": "s5oX1qb9xXIy"
   },
   "outputs": [],
   "source": [
    "def mapping(word_list):\n",
    "  x=[]\n",
    "  for i in word_list:\n",
    "    x.append(len(i))\n",
    "  return x"
   ]
  },
  {
   "cell_type": "code",
   "execution_count": 8,
   "metadata": {
    "colab": {
     "base_uri": "https://localhost:8080/",
     "height": 35
    },
    "id": "wrEIJX17zDe7",
    "outputId": "558e5ae3-8055-4b75-cb94-fdeb0e6dddb6"
   },
   "outputs": [
    {
     "data": {
      "text/plain": [
       "[5, 2, 4]"
      ]
     },
     "execution_count": 8,
     "metadata": {},
     "output_type": "execute_result"
    }
   ],
   "source": [
    "mapping(['hello','hi','good'])"
   ]
  },
  {
   "cell_type": "markdown",
   "metadata": {
    "id": "Fi_khexG2vqF"
   },
   "source": [
    "Write a Python function which takes a character (i.e. a string of length 1) and returns True if\n",
    "it is a vowel, False otherwise."
   ]
  },
  {
   "cell_type": "code",
   "execution_count": 9,
   "metadata": {
    "id": "DdEtsCFFzJ4a"
   },
   "outputs": [],
   "source": [
    "def fun(a):\n",
    "  vowel=['a','e','i','o','u']\n",
    "  if a.lower() in vowel:\n",
    "    return True\n",
    "  else:\n",
    "    return False"
   ]
  },
  {
   "cell_type": "code",
   "execution_count": 10,
   "metadata": {
    "colab": {
     "base_uri": "https://localhost:8080/",
     "height": 35
    },
    "id": "zVnJP8Q_2_bc",
    "outputId": "7aad4aa1-3993-4fbd-86d2-deb5acd006c5"
   },
   "outputs": [
    {
     "data": {
      "text/plain": [
       "True"
      ]
     },
     "execution_count": 10,
     "metadata": {},
     "output_type": "execute_result"
    }
   ],
   "source": [
    "fun('A')"
   ]
  },
  {
   "cell_type": "code",
   "execution_count": null,
   "metadata": {
    "id": "ZYO7LSS73E94"
   },
   "outputs": [],
   "source": []
  }
 ],
 "metadata": {
  "colab": {
   "name": "python-assignment-4.ipynb",
   "provenance": []
  },
  "kernelspec": {
   "display_name": "Python 3",
   "language": "python",
   "name": "python3"
  },
  "language_info": {
   "codemirror_mode": {
    "name": "ipython",
    "version": 3
   },
   "file_extension": ".py",
   "mimetype": "text/x-python",
   "name": "python",
   "nbconvert_exporter": "python",
   "pygments_lexer": "ipython3",
   "version": "3.8.8"
  },
  "toc": {
   "base_numbering": 1,
   "nav_menu": {},
   "number_sections": true,
   "sideBar": true,
   "skip_h1_title": false,
   "title_cell": "Table of Contents",
   "title_sidebar": "Contents",
   "toc_cell": false,
   "toc_position": {},
   "toc_section_display": true,
   "toc_window_display": false
  }
 },
 "nbformat": 4,
 "nbformat_minor": 1
}
